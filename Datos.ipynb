{
 "cells": [
  {
   "cell_type": "code",
   "execution_count": 1,
   "metadata": {},
   "outputs": [],
   "source": [
    "import random\n",
    "num = [random.randint(1,100) for i in range(10)]\n"
   ]
  },
  {
   "cell_type": "code",
   "execution_count": 2,
   "metadata": {},
   "outputs": [
    {
     "name": "stdout",
     "output_type": "stream",
     "text": [
      "los numeros generados en una lista de 10 son: [48, 71, 73, 58, 72, 34, 92, 2, 60, 63]\n"
     ]
    }
   ],
   "source": [
    "print(f\"los numeros generados en una lista de 10 son: {num}\")"
   ]
  },
  {
   "cell_type": "code",
   "execution_count": 3,
   "metadata": {},
   "outputs": [],
   "source": [
    "#Generar el contenido de contar el numero de palabras de un texto\n",
    "texto = \"Hoy es miercoles,y mañana es jueves\"\n",
    "contador={}\n"
   ]
  },
  {
   "cell_type": "code",
   "execution_count": 4,
   "metadata": {},
   "outputs": [
    {
     "name": "stdout",
     "output_type": "stream",
     "text": [
      "<built-in method split of str object at 0x0000013D5DED4C90>\n"
     ]
    }
   ],
   "source": [
    "print(texto.split)"
   ]
  },
  {
   "cell_type": "code",
   "execution_count": 10,
   "metadata": {},
   "outputs": [],
   "source": [
    "for palabras in texto.split():\n",
    "    palabras = palabras.strip(\",\")\n",
    "    if palabras in contador:\n",
    "        contador[palabras] +=1\n",
    "    else:\n",
    "        contador[palabras]=1"
   ]
  },
  {
   "cell_type": "code",
   "execution_count": 11,
   "metadata": {},
   "outputs": [
    {
     "name": "stdout",
     "output_type": "stream",
     "text": [
      "{'Hoy': 3, 'es': 6, 'miercoles,y': 3, 'mañana': 3, 'jueves': 3}\n"
     ]
    }
   ],
   "source": [
    "print(contador)"
   ]
  },
  {
   "cell_type": "code",
   "execution_count": 6,
   "metadata": {},
   "outputs": [
    {
     "name": "stdout",
     "output_type": "stream",
     "text": [
      "11234 Es numero par.\n"
     ]
    }
   ],
   "source": [
    "numero = int(input(\"Ingresa un numero: \"))\n",
    "if numero % 2 == 0:\n",
    "    print(f\"{numero} Es numero par.\")\n",
    "else:\n",
    "    print(f\"{numero} Es numero impar.\")"
   ]
  },
  {
   "cell_type": "code",
   "execution_count": 11,
   "metadata": {},
   "outputs": [
    {
     "name": "stdout",
     "output_type": "stream",
     "text": [
      "Eres un adolecente\n"
     ]
    }
   ],
   "source": [
    "while True:\n",
    "    try:\n",
    "        edad = int(input(\"Ingrese la edad: \"))\n",
    "        break\n",
    "    except ValueError:\n",
    "        print(\"Por favor, Ingresa un numero valido.\")\n",
    "        \n",
    "        \n",
    "if edad < 0:\n",
    "    print(\"La edad no puede ser negativa\")\n",
    "elif edad < 13:\n",
    "    print(\"Eres un niño\")\n",
    "elif edad < 20:\n",
    "    print(\"Eres un adolecente\")\n",
    "elif edad < 70:\n",
    "    print(\"Eres un adulto\")\n",
    "else:\n",
    "    print(\"Eres un adulto mayor.\")"
   ]
  }
 ],
 "metadata": {
  "kernelspec": {
   "display_name": "Python 3",
   "language": "python",
   "name": "python3"
  },
  "language_info": {
   "codemirror_mode": {
    "name": "ipython",
    "version": 3
   },
   "file_extension": ".py",
   "mimetype": "text/x-python",
   "name": "python",
   "nbconvert_exporter": "python",
   "pygments_lexer": "ipython3",
   "version": "3.12.4"
  }
 },
 "nbformat": 4,
 "nbformat_minor": 2
}
